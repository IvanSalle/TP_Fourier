{
 "cells": [
  {
   "cell_type": "markdown",
   "metadata": {},
   "source": [
    "# Mini-stage d'analyse pour l'ingénieur\n",
    "\n",
    "**Brigitte Bidegaray-Fesquet, Cécile Legrand et Nathan Shourick**\n",
    "\n",
    "Tous les documents pour ce TP sont disponibles dans le dossier [Documents/TP Jupyter LaTeX](https://chamilo.grenoble-inp.fr/main/document/document.php?cidReq=ENSIMAG3MMAI&id_session=0&gidReq=0&gradebook=0&origin=&id=775120) sur Chamilo.\n",
    "\n",
    "### Le but de ce mini-stage est\n",
    "\n",
    "* de faire connaissance avec certaines librairies **python** pour le calcul scientifique ;\n",
    "* de faire connaissance avec l'écriture de formules en **LaTeX**, outil de traitement de texte utilisé notamment en mathématiques ;\n",
    "* de s'exercer au **compte-rendu de TP** sur des exercices en lien avec le cours d'analyse pour l'ingénieur;\n",
    "* de rédiger ce TP dans un *notebook* permettant de présenter conjointement les calculs et la démarche suivie, et permettant la reproductibilité de vos résultats.\n",
    "\n",
    "La partie 1 de ce sujet vous propose une introduction rapide au *notebook*. Prenez le temps de parcourir l'aide.\n",
    "    \n",
    "La partie 2 présente quelques librairies python pour les mathématiques avec une application aux sinusoïdes. Prenez le temps de répondre aux questions sur la représentation des vecteurs et des matrices. \n",
    "    \n",
    "La partie 3 introduit les séries de Fourier et vous permettra dans l'écriture des réponses de vous familiariser avec l'écriture des équations en LaTeX. Des exemples vous sont donnés en éditant les zones <i>markdown</i> de ce sujet. C'est le cœur du sujet avec les propriétés des séries de Fourier et leur illustration numérique sur un exemple.\n",
    "    \n",
    "Enfin la dernière partie est plus libre et vous donne quelques pistes d'exploration autour du sujet.\n",
    "\n",
    "La notation prendra en compte la qualité de la programmation du point de vue de l'utilisation du langage python et de l'algorithmique, et de la qualité de la rédaction, tant en ce qui concerne la présentation en LaTeX que le contenu scientifique.\n",
    "\n",
    "### Consignes pour le rendu \n",
    "\n",
    "* Travailler en binôme et déclarer ces binômes sur Teide. \n",
    "Les deux membres du binôme doivent être dans le même groupe de TP.\n",
    "* Modifier le présent *notebook* en rédigeant les réponses dans les cellules prédéfinies.\n",
    "* Renommer ce *notebook* &lt;NomBinome1-NomBinome2&gt;.ipynb et le déposer sur Teide.\n",
    "* Le *notebook* doit s'exécuter parfaitement et présenter l'analyse des résultats obtenus (et non leur paraphrase puisque les résultats sont déjà visibles dans le *notebook*) et des commentaires éventuels permettant la compréhension des choix algorithmiques effectués ou des difficultés rencontrées. \n",
    "Le compte-rendu doit néanmoins rester relativement concis.\n",
    "* Relisez-vous, soignez la présentation des figures et des formules mathématiques.\n",
    "\n",
    "<h3 align=center><font color=\"red\">Date limite de rendu : 12 janvier 2024 à 23h59</font></h3>\n",
    "\n",
    "Bon courage à tous, et <u>n'hésitez pas à faire appel aux encadrants</u> aussi souvent que nécessaire !"
   ]
  },
  {
   "cell_type": "markdown",
   "metadata": {},
   "source": [
    "## 1. Travailler dans un *notebook*\n",
    "\n",
    "L'utilisation d'un *notebook* permet de réunir en un même lieu, la description du problème à résoudre et des méthodes utilisées, le code correspondant, les sorties du code et en particulier ici des graphiques, et l'analyse des résultats obtenus. C'est un des outils pour permettre la reproductibilité de résultats. \n",
    "\n",
    "### 1.1. Types de cellules\n",
    "\n",
    "Il est constitué d'une succession de cellules notamment\n",
    "* **des cellules de texte** (`Markdown`) dont le formattage est un mélange de *markdown*, d'HTML et de LaTeX. Il suffit de double-cliquer sur une telle cellule pour voir comment elle est rédigée. `Maj`-`Entrée` permet d'interpréter le contenu de la cellule.\n",
    "* **des cellules de code**, dans lesquelles on rédige le code. Leur exécution peut afficher des résultats ou des courbes.\n",
    "\n",
    "### 1.2.  Formattage du texte\n",
    "\n",
    "N'hésitez pas à imiter ! Par exemple, dans cette cellule, vous pouvez voir comment coder en *markdown* \n",
    "* un titre (de niveau 2 et 3),\n",
    "* du texte en *italique*,\n",
    "* du texte en **gras**,\n",
    "* des commandes,\n",
    "* une liste.\n",
    "\n",
    "Dans la cellule au dessus, le changement de couleur de texte résulte de l'utilisation de commandes HTML (`<font color=red>...</font>`).\n",
    "\n",
    "LaTeX (prononcer latek...) est utilisé pour écrire les formules mathématiques, mais ce langage dépasse de loin cet usage. Il sert pour écrire des documents complets où tout le contenu et le formattage sont codés dans ce langage. Vous trouverez plus d'informations sur Chamilo. Vous trouverez également plus loin des exemples d'utilisation, dans la présentation des séries de Fourier. \n",
    "\n",
    "Pour un joli rendu, toutes les formules, même constituées d'un symbole unique, doivent être en LaTeX.\n",
    "Les formules *en ligne* doivent être encadrées par des dollars (`$formule$`). Il y a plusieurs façons de disposer des formules sur une ligne à part, ici nous utilisons `\\begin{equation}une ligne de formules\\end{equation}` pour une seule ligne et `\\begin{align}plusieurs lignes de formules\\end{align}` pour aligner avec `&` plusieurs lignes séparées par `\\\\`.\n",
    "\n",
    "\n",
    "### 1.3. L'aide\n",
    "\n",
    "Dans l'onglet `Help`, vous y trouverez notamment de l'aide sur\n",
    "* le fonctionnement d'un *notebook*,\n",
    "* le langage *markdown*,\n",
    "* quelques librairies python.\n",
    "\n",
    "Vous pouvez également accéder à la documentation de python en tapant `help()`.\n",
    "Laissez-vous guider. Essayez les recherches suivantes.\n",
    "* `print`\n",
    "* `symbols`\n",
    "\n",
    "N'oubliez pas de faire `quit` à la fin..."
   ]
  },
  {
   "cell_type": "code",
   "execution_count": 1,
   "metadata": {},
   "outputs": [],
   "source": [
    "#help()"
   ]
  },
  {
   "cell_type": "markdown",
   "metadata": {},
   "source": [
    "Vous pouvez aussi directement demander l'aide d'une fonction particulière."
   ]
  },
  {
   "cell_type": "code",
   "execution_count": 2,
   "metadata": {},
   "outputs": [
    {
     "name": "stdout",
     "output_type": "stream",
     "text": [
      "Help on built-in function print in module builtins:\n",
      "\n",
      "print(*args, sep=' ', end='\\n', file=None, flush=False)\n",
      "    Prints the values to a stream, or to sys.stdout by default.\n",
      "    \n",
      "    sep\n",
      "      string inserted between values, default a space.\n",
      "    end\n",
      "      string appended after the last value, default a newline.\n",
      "    file\n",
      "      a file-like object (stream); defaults to the current sys.stdout.\n",
      "    flush\n",
      "      whether to forcibly flush the stream.\n",
      "\n"
     ]
    }
   ],
   "source": [
    "help(print)"
   ]
  },
  {
   "cell_type": "markdown",
   "metadata": {},
   "source": [
    "## 2. Signaux sinusoïdaux purs\n",
    "\n",
    "L'analyse de Fourier est basée sur la représentation à l'aide de signaux sinusoïdaux purs. Un signal pur de fréquence $\\lambda$ s'écrit\n",
    "\\begin{equation}\n",
    "t \\mapsto \\sin(2\\pi\\lambda t).\n",
    "\\end{equation}\n",
    "En guise d'échauffement en python, nous allons voir comment les calculer numériquement et les représenter graphiquement. \n",
    "\n",
    "### 2.1. Librairies python utiles\n",
    "\n",
    "Pour le présent TP, nous aurons besoin d'un certain nombre de librairies pour les mathématiques.\n",
    "* la commande `%matplotlib inline` permet d'effectuer les graphismes en ligne dans le *notebook*,\n",
    "* `matplotlib.pyplot` contient les fonctions pour tracer les courbes,\n",
    "* `numpy` contient les fonctions pour le travail sur les tableaux et les matrices,\n",
    "* `math` contient les fonctions mathématiques usuelles.\n",
    "\n",
    "Dans ce TP, on utilisera systématiquement des objets `numpy` pour représenter les vecteurs et les matrices (et non des listes).\n",
    "À noter que les fonctions de base ont aussi des versions dans la librairie `numpy` qui s'appliquent aux objets (vecteurs, matrices) terme-à-terme. Pour savoir exactement ce que l'on utilise, on a intérêt à expliciter les librairies et à ne pas tout importer avec `*`.\n",
    "\n",
    "Commençons par importer les librairies nécessaires. \n",
    "À noter que ce qui est déjà importé dans un *notebook* n'est pas à ré-importer lors d'utilisations ultérieures. "
   ]
  },
  {
   "cell_type": "code",
   "execution_count": 3,
   "metadata": {},
   "outputs": [],
   "source": [
    "%matplotlib inline\n",
    "import matplotlib.pyplot as plt\n",
    "import numpy as np\n",
    "from math import pi, cos, sin"
   ]
  },
  {
   "cell_type": "markdown",
   "metadata": {},
   "source": [
    "Pour une implémentation numérique des fonctions, nous allons bien sûr devoir nous limiter à leur discrétisation, c'est-à-dire ici à leur représentation par leurs valeurs sur un ensemble discret et fini de points. Ces points ainsi que les valeurs de fonctions en ces points seront donc représentés par des vecteurs.\n",
    "\n",
    "### 2.2. Vecteurs et matrices\n",
    "\n",
    "La façon la plus simple de définir une matrice $n \\times m$ en python est d'entrer au clavier la liste de ses éléments, par exemple\n",
    "\n",
    "```\n",
    "A = np.array([[a11, a12, a13], [a21, a22, a23]])\n",
    "```\n",
    "\n",
    "**Opérations élémentaires**\n",
    "\n",
    "* `A[k, :]` une ligne de la matrice $A$       \n",
    "* `A + B` somme\n",
    "* `np.matmul(A, B)` ou `A@B` produit matriciel\n",
    "* `A * B` produit terme à terme\n",
    "* `np.linalg.det(A)` déterminant de $A$\n",
    "* `np.transpose(A)` transposée de $A$\n",
    "* `np.linalg.inv(A)` inverse de $A$\n",
    "\n",
    "En python, la numérotation commence à 0."
   ]
  },
  {
   "cell_type": "markdown",
   "metadata": {},
   "source": [
    "#### <font color=blue>Questions : Testez les opérations sur les matrices</font>\n",
    "\n",
    "Définir la matrice\n",
    "\\begin{equation}\n",
    "    M = \\begin{pmatrix}\n",
    "      1 & 0 & 3 & 1 \\\\\n",
    "      1 & 2 & 0 & 1 \\\\\n",
    "      0 & 1 & 3 & 0\n",
    "    \\end{pmatrix}.\n",
    "\\end{equation}\n",
    "1. Quelle est la commande donnant les dimensions de la matrice $M$ ?"
   ]
  },
  {
   "cell_type": "code",
   "execution_count": 4,
   "metadata": {},
   "outputs": [
    {
     "name": "stdout",
     "output_type": "stream",
     "text": [
      "3 lignes, 4 colonnes\n"
     ]
    }
   ],
   "source": [
    "A = np.array([[1,0,3,1],[1,2,0,1],[0,1,3,0]])\n",
    "ligne,colonne = A.shape\n",
    "print(ligne,\"lignes,\",colonne, \"colonnes\")"
   ]
  },
  {
   "cell_type": "markdown",
   "metadata": {},
   "source": [
    "2. Extraire la première ligne, la dernière colonne et l'élément à la deuxième ligne, troisième colonne de $M$."
   ]
  },
  {
   "cell_type": "code",
   "execution_count": 5,
   "metadata": {},
   "outputs": [
    {
     "name": "stdout",
     "output_type": "stream",
     "text": [
      "[1 0 3 1]\n",
      "[1 1 0]\n",
      "0\n"
     ]
    }
   ],
   "source": [
    "a = A[0, :]\n",
    "print(a)\n",
    "b = A[:, 3]\n",
    "print(b)\n",
    "c = A[1,2]\n",
    "print(c)\n"
   ]
  },
  {
   "cell_type": "markdown",
   "metadata": {},
   "source": [
    "3. À l'aide de fonctions de la librairie numpy, extraire la diagonale, les parties triangulaires supérieures et inférieures de $M$."
   ]
  },
  {
   "cell_type": "code",
   "execution_count": 6,
   "metadata": {},
   "outputs": [
    {
     "name": "stdout",
     "output_type": "stream",
     "text": [
      "[1 2 3]\n",
      "[[1 0 3 1]\n",
      " [0 2 0 1]\n",
      " [0 0 3 0]]\n",
      "[[1 0 0 0]\n",
      " [1 2 0 0]\n",
      " [0 1 3 0]]\n"
     ]
    }
   ],
   "source": [
    "diag = np.diag(A)\n",
    "print(diag)\n",
    "triangle_sup = np.triu(A)\n",
    "print(triangle_sup)\n",
    "trinagle_inf = np.tril(A)\n",
    "print(trinagle_inf)\n"
   ]
  },
  {
   "cell_type": "markdown",
   "metadata": {},
   "source": [
    "4. En utilisant les fonctions `np.ones` et `np.diag`, définir la matrice identité $10\\times 10$.\n"
   ]
  },
  {
   "cell_type": "code",
   "execution_count": 7,
   "metadata": {},
   "outputs": [
    {
     "name": "stdout",
     "output_type": "stream",
     "text": [
      "[[1. 0. 0. 0. 0. 0. 0. 0. 0. 0.]\n",
      " [0. 1. 0. 0. 0. 0. 0. 0. 0. 0.]\n",
      " [0. 0. 1. 0. 0. 0. 0. 0. 0. 0.]\n",
      " [0. 0. 0. 1. 0. 0. 0. 0. 0. 0.]\n",
      " [0. 0. 0. 0. 1. 0. 0. 0. 0. 0.]\n",
      " [0. 0. 0. 0. 0. 1. 0. 0. 0. 0.]\n",
      " [0. 0. 0. 0. 0. 0. 1. 0. 0. 0.]\n",
      " [0. 0. 0. 0. 0. 0. 0. 1. 0. 0.]\n",
      " [0. 0. 0. 0. 0. 0. 0. 0. 1. 0.]\n",
      " [0. 0. 0. 0. 0. 0. 0. 0. 0. 1.]]\n"
     ]
    }
   ],
   "source": [
    "M_identite = np.diag(np.ones(10))\n",
    "print(M_identite)"
   ]
  },
  {
   "cell_type": "markdown",
   "metadata": {},
   "source": [
    "5. En utilisant ces mêmes fonctions, définir la matrice tridiagonale d'ordre $10$ suivante :\n",
    "\\begin{equation}\n",
    "      C = \\begin{pmatrix}\n",
    "          2 & -1& & \\mathbf{0} \\\\\n",
    "          1 & 2 & \\ddots & \\\\\n",
    "          & \\ddots & \\ddots & -1 \\\\\n",
    "          \\mathbf{0}& & 1 & 2 \\\\\n",
    "        \\end{pmatrix}\n",
    "\\end{equation}"
   ]
  },
  {
   "cell_type": "code",
   "execution_count": 8,
   "metadata": {},
   "outputs": [
    {
     "name": "stdout",
     "output_type": "stream",
     "text": [
      "[[ 2. -1.  0.  0.  0.  0.  0.  0.  0.  0.]\n",
      " [ 1.  2. -1.  0.  0.  0.  0.  0.  0.  0.]\n",
      " [ 0.  1.  2. -1.  0.  0.  0.  0.  0.  0.]\n",
      " [ 0.  0.  1.  2. -1.  0.  0.  0.  0.  0.]\n",
      " [ 0.  0.  0.  1.  2. -1.  0.  0.  0.  0.]\n",
      " [ 0.  0.  0.  0.  1.  2. -1.  0.  0.  0.]\n",
      " [ 0.  0.  0.  0.  0.  1.  2. -1.  0.  0.]\n",
      " [ 0.  0.  0.  0.  0.  0.  1.  2. -1.  0.]\n",
      " [ 0.  0.  0.  0.  0.  0.  0.  1.  2. -1.]\n",
      " [ 0.  0.  0.  0.  0.  0.  0.  0.  1.  2.]]\n"
     ]
    }
   ],
   "source": [
    "M_tridiagonale = np.diag(np.ones(10)*2) +  np.diag(np.ones(9),-1) + np.diag(np.ones(9)*-1,+1)\n",
    "print(M_tridiagonale)"
   ]
  },
  {
   "cell_type": "markdown",
   "metadata": {},
   "source": [
    "### 2.3. Définir et tracer des fonctions\n",
    "#### 2.3.1. Définition de fonctions\n",
    "\n",
    "Considérons par exemple la fonction \n",
    "\\begin{equation}\n",
    "f(x) = \\sin(2\\pi x)+\\cos(\\pi x).\n",
    "\\end{equation}\n",
    "Nous pouvons la définir ainsi en python\n",
    "```\n",
    "def f(x):\n",
    "     return sin(2 * pi * x) + cos(pi * x)\n",
    "```\n",
    "\n",
    "#### 2.3.2. Fonctions échantillonnées (= discrétisées)\n",
    "\n",
    "Pour le calcul numérique, une fonction peut être définie uniquement en des points de discrétisation de la variable $x$. Par exemple\n",
    "\n",
    "```\n",
    "x = np.linspace(0, 1, 11)\n",
    "```\n",
    "correspond à une discrétisation par pas de $0.1=1/(11-1)$, de l'intervalle $[0,1]$, soit 11 valeurs. On définit alors la fonction sur cette grille discrète. Avec l'exemple précédent, il vaut mieux redéfinir\n",
    "```\n",
    "def f(x):\n",
    "     return np.sin(2 * pi * x) + np.cos(pi * x)\n",
    "```\n",
    "et alors il suffit d'écrire\n",
    "```\n",
    "y = f(x)\n",
    "```\n",
    "pour calculer toutes les valeurs de la fonction $f$.\n",
    "\n",
    "#### 2.3.3. Tracé de courbes\n",
    "\n",
    "Pour tracer une courbe $y=x^2$ sur l'intervalle $[a,b]$ :\n",
    "```\n",
    "x = np.linspace(a, b, n) # x est échantillonné entre a et b avec un pas de (b-a)/(n-1)\n",
    "z = x**2\n",
    "plt.plot(x, z)\n",
    "```\n",
    "\n",
    "##### Pour varier le trait ou la couleur\n",
    "\n",
    "Par exemple, pour tracer en rouge :\n",
    "```\n",
    "plt.plot(x, z, 'r-')\n",
    "```\n",
    "Dans la chaîne de caractères (troisième argument), on donne une lettre imposant la couleur (`r` pour *red*, `b` pour *blue*, `g` pour *green*...) et un symbole pour le trait (`-` pour un trait continu (par défaut), `--` pour des tirets, `:` pour des pointillés...). Pour plus de détails, voir la documentation de `matplotlib.lines.Line2D`.\n",
    "\n",
    "##### Pour tracer plusieurs courbes, rajouter un titre, des axes, une légende\n",
    "\n",
    "```\n",
    "x = np.linspace(0, 10, 101)\n",
    "plt.plot(x, np.cos(x), 'r', label='cosinus')\n",
    "plt.plot(x, np.sin(x), 'b', label='sinus')\n",
    "plt.title('Graphe des fonctions cos et sin')   # titre\n",
    "plt.xlabel('temps')\n",
    "plt.ylabel('f(t)');                            # noms des axes\n",
    "plt.legend()                                   # légende qui utilise les labels\n",
    "```\n",
    "\n",
    "##### Pour tracer plusieurs graphes dans une fenêtre\n",
    "La commande `plt.subplot(n, m, p)`, placée avant un tracé de courbe, subdivise la fenêtre du graphe en une matrice $n\\times m$ de sous-fenêtres et sélectionne la $p$-ième pour dessiner le graphe courant&nbsp;: l'élément $(i, j)$ de la matrice correspond au graphe numéro $(i-1)n + j$.\n",
    "\n",
    "##### Pour exporter une figure\n",
    "La commande `plt.savefig('<fichier', format='pdf')`permet de sauver la figure courante au format pdf. D'autres formats sont possibles."
   ]
  },
  {
   "cell_type": "markdown",
   "metadata": {},
   "source": [
    "#### <font color = blue>Question : Testez le tracé de fonctions</font>\n",
    "\n",
    "Tracer avec deux couleurs différentes les courbes de la fonction sinus sur l'intervalle $[0,2\\pi]$ pour 6 points de discrétisation et 21 points de discrétisation. \n",
    "Ajouter un titre et une légende."
   ]
  },
  {
   "cell_type": "code",
   "execution_count": 9,
   "metadata": {},
   "outputs": [
    {
     "data": {
      "text/plain": [
       "[<matplotlib.lines.Line2D at 0x10fdd08d0>]"
      ]
     },
     "execution_count": 9,
     "metadata": {},
     "output_type": "execute_result"
    },
    {
     "data": {
      "image/png": "[encoded data removed]",
      "text/plain": [
       "<Figure size 640x480 with 1 Axes>"
      ]
     },
     "metadata": {},
     "output_type": "display_data"
    }
   ],
   "source": [
    "x1 = np.linspace(0,2*pi,6)\n",
    "x2 = np.linspace(0,2*pi,21)\n",
    "y1 = np.sin(x1)\n",
    "y2 = np.sin(x2)\n",
    "plt.title('graphe de la fonction sinus sur 0,2pi discretisé en 6 et 21 points ')\n",
    "plt.legend('en rouge la fonction discrétisée en 6 points et en bleu la fonction discrétisée en 21 points')\n",
    "plt.plot(x1,y1,'r-',label='sinus')\n",
    "plt.plot(x2,y2,'b-',label='sinus')"
   ]
  },
  {
   "cell_type": "markdown",
   "metadata": {},
   "source": [
    "## 3. Les séries de Fourier\n",
    "\n",
    "Pour en savoir plus : <br>\n",
    "[Ber14] Maïtine Bergounioux, [*Mathématiques pour le traitement du signal*](https://beluga.univ-grenoble-alpes.fr/permalink/33UGRENOBLE_INST/rgi2mt/alma991003269059706161), 2e édition, Dunod (2014).\n",
    "<br>\n",
    "[Sch01] Michelle Schatzman, [*Analyse numérique : une approche mathématique*](https://beluga.univ-grenoble-alpes.fr/permalink/33UGRENOBLE_INST/1vb34gl/alma991005329019706161), chapitre \"Du côté de chez Fourier\", Dunod (2001).\n",
    "\n",
    "### 3.1. Notations\n",
    "\n",
    "#### Polynômes trigonométriques\n",
    "\n",
    "On appelle $\\mathbb{T}_N$ l'espace vectoriel des polynômes trigonométriques de degré au plus $N$ qui s'écrivent sous la forme \n",
    "\\begin{equation}\n",
    "\\sum_{n=-N}^N c_n \\exp\\left(2i\\pi n\\dfrac tT\\right),\n",
    "\\end{equation}\n",
    "où pour $n\\in\\{-N,\\dots,N\\}$, $c_n$ est un nombre complexe. Ces polynômes trigonométriques sont clairement des fonctions périodiques de période $T$.\n",
    "\n",
    "#### Espaces fonctionnels\n",
    "\n",
    "On note $\\mathcal{C}_{\\rm per}^k$ l'espace des fonctions $k$ fois continûment différentiables, périodiques de période $T$. Un cas particulier est $\\mathcal{C}_{\\rm per}^0$, espace des fonctions continues, périodiques de période $T$.\n",
    "\n",
    "On note $\\mathcal{L}_{\\rm per}^1$ l'ensemble des fonctions Lebesgue-intégrables sur tout intervalle borné de $\\mathbb{R}$, périodiques de période $T$. On le munit de la norme\n",
    "\\begin{equation}\n",
    "\\|f\\|_1 = \\int_0^{T} |f(t)| dt.\n",
    "\\end{equation}\n",
    "\n",
    "On note $\\mathcal{L}_{\\rm per}^2$ l'ensemble des fonctions de carré Lebesgue-intégrables sur tout intervalle borné de $\\mathbb{R}$, périodiques de période $T$. On le munit de la norme\n",
    "\\begin{equation}\n",
    "\\|f\\|_2 = \\left(\\int_0^{T} |f(t)|^2 dt\\right)^{1/2}.\n",
    "\\end{equation}\n",
    "\n",
    "### 3.2. Coefficients de Fourier complexes\n",
    "\n",
    "Étant donné $f\\in\\mathcal{L}_{\\rm per}^1$, on définit le $n$-ième coefficient de Fourier par \n",
    "\\begin{equation}\n",
    "c_n(f) = \\frac 1T \\int_0^T f(t) \\exp\\left(-2i\\pi n\\dfrac tT\\right) dt.\n",
    "\\end{equation}\n",
    "On peut alors construire le polynôme trigonométrique\n",
    "\\begin{equation}\n",
    "S_N(t) = \\sum_{n=-N}^N c_n(f) \\exp\\left(2i\\pi n\\dfrac tT\\right).\n",
    "\\end{equation}\n",
    "\n",
    "Si de plus $f\\in\\mathcal{L}_{\\rm per}^2$, on peut montrer que $S_N$ réalise l'approximation au sens des moindres carrés de $f$ dans $\\mathbb{T}_N$, c'est-à-dire que\n",
    "\\begin{equation}\n",
    "\\forall P\\in\\mathbb{T}_N,\\ \\int_0^T |f-S_N|^2 dt \\leq \\int_0^T |f-P|^2 dt.\n",
    "\\end{equation}"
   ]
  },
  {
   "cell_type": "markdown",
   "metadata": {},
   "source": [
    "**<font color=blue>Question :</font>** \n",
    "Rappeler la formule de quadrature des rectangles à gauche permettant d'approcher l'intégrale $c_n(f)$ avec $J$ points de discrétisation régulièrement espacés. (Cela revient à généraliser à une intégrale sur $[0,T]$ la formule vue sur la première feuille de TD.) On utilisera ces points de discrétisation régulièrement espacés en temps dans la suite."
   ]
  },
  {
   "cell_type": "markdown",
   "metadata": {},
   "source": [
    "<font color = blue> On approcher l'intégrale $C_n(f)$ avec $J$ points de discrétisations par: \n",
    "    \\begin{equation}\n",
    "    c_n(f) = \\frac 1J \\sum_{j=0}^{J-1} f(\\frac{T}{J}j)\\: \\exp(-2i\\pi n \\frac{j}{J} )\n",
    "    \\end{equation}\n",
    "    <font>"
   ]
  },
  {
   "cell_type": "markdown",
   "metadata": {},
   "source": [
    "**<font color=blue>Question :</font>** \n",
    "Définir une fonction `discreteFourier` qui prend en entrée \n",
    "* un vecteur `numpy` des valeurs d'une fonction $f$ discrétisée avec $J$ points sur $[0,T]$ \n",
    "* et le degré $N$ du polynôme trigonométrique,\n",
    "\n",
    "et retourne les coefficients de Fourier $c_n(f)$. "
   ]
  },
  {
   "cell_type": "code",
   "execution_count": 10,
   "metadata": {},
   "outputs": [],
   "source": [
    "def discreteFourier(fj, N):\n",
    "    mat = np.zeros((2*N+1,), dtype=complex)\n",
    "    for i in range(2*N+1):\n",
    "        for j in range(len(fj)):\n",
    "            mat[i] += fj[j] * np.exp(-2* 1j * np.pi * (i-N) * j/len(fj))\n",
    "        mat[i] = mat[i]/len(fj)\n",
    "    return mat\n"
   ]
  },
  {
   "cell_type": "markdown",
   "metadata": {},
   "source": [
    "**<font color = blue>Question :</font>** \n",
    "Définir une fonction `invFourier` qui prend en entrée \n",
    "* un vecteur `numpy` des coefficients de Fourier $c_n$ \n",
    "* et le nombre $J$ de points de discrétisation en temps, \n",
    "\n",
    "et retourne la somme partielle $S_N$ aux temps de discrétisation."
   ]
  },
  {
   "cell_type": "code",
   "execution_count": 11,
   "metadata": {},
   "outputs": [],
   "source": [
    "def invFourier(cn, J):\n",
    "    Sn = np.zeros((J,), dtype=complex)\n",
    "    for i in range(J):\n",
    "        for j in range(len(cn)):\n",
    "            Sn[i] += cn[j] * np.exp(2 * 1j * np.pi * (j - len(cn)) * i/J)\n",
    "    return Sn\n",
    "\n",
    "def invFourier2(cn, J):\n",
    "    Sn = np.zeros((J,), dtype=complex)\n",
    "    for i in range(J):\n",
    "        for j in range(len(cn)):\n",
    "            Sn[i] += cn[j] * np.exp(2 * 1j * np.pi * (j - ((len(cn)-1)/2)) * i/J)\n",
    "    return Sn"
   ]
  },
  {
   "cell_type": "markdown",
   "metadata": {},
   "source": [
    "### 3.3. Un exemple\n",
    "\n",
    "Soient $0<a\\leq T$ et un signal créneau, c'est-à-dire la fonction périodique de période $T$ définie sur $[-T/2,T/2]$ par\n",
    "\\begin{equation}\n",
    "f(t) = \\begin{cases}\n",
    "A & \\text{sur } \\left[-\\dfrac a2,\\dfrac a2\\right], \\\\\n",
    "0 & \\text{ailleurs.}\n",
    "\\end{cases}\n",
    "\\end{equation}"
   ]
  },
  {
   "cell_type": "markdown",
   "metadata": {},
   "source": [
    "**<font color = blue>Question :</font>** \n",
    "Définir cette fonction comme fonction python qui dépend de $t$, $a$, $T$ et $A$.<br>\n",
    "Tracer cette fonction sur l'intervalle $[-T,T]$, pour les valeurs $T=2$, $a=0,4$, $A=1,5$.\n",
    "(On gardera ces valeurs pour les illustrations numériques qui suivront.)"
   ]
  },
  {
   "cell_type": "code",
   "execution_count": 32,
   "metadata": {},
   "outputs": [
    {
     "data": {
      "image/png": "[encoded data removed]",
      "text/plain": [
       "<Figure size 640x480 with 1 Axes>"
      ]
     },
     "metadata": {},
     "output_type": "display_data"
    }
   ],
   "source": [
    "T = 2\n",
    "a = 0.4\n",
    "A = 1.5\n",
    "\n",
    "def f(t, a, T, A):\n",
    "    t_mod = (t + T/2) % T - T/2 \n",
    "    if -a/2 <= t_mod <= a/2:\n",
    "        return A\n",
    "    else:\n",
    "        return 0\n",
    "\n",
    "# graph\n",
    "x = np.linspace(-T,T)\n",
    "y = [f(e, a, T, A) for e in x]\n",
    "plt.plot(x, y)\n",
    "plt.xlabel('t')\n",
    "plt.ylabel('f(t)')\n",
    "plt.title('Signal créneau')\n",
    "plt.show()\n"
   ]
  },
  {
   "cell_type": "markdown",
   "metadata": {},
   "source": [
    "**<font color = blue>Question :</font>** \n",
    "Calculer les coefficients de Fourier $c_n(f)$ pour la fonction créneau. "
   ]
  },
  {
   "cell_type": "markdown",
   "metadata": {},
   "source": [
    "\\begin{equation}\n",
    "c_n(f) = \\frac{1}{T} \\int_0^T f(t) \\exp\\left(-2i\\pi n\\frac{t}{T}\\right) dt = \\frac{1}{T} \\left(\\int_0^{\\frac{a}{2}} A \\exp\\left(-2i\\pi n\\frac{t}{T}\\right) dt + \\int_{\\frac{-a}{2}+T}^{T} A \\exp\\left(-2i\\pi n\\frac{t}{T}\\right) dt \\right) = \\frac{A}{-2in\\pi} \\left(\\exp\\left(-2i\\pi n\\frac{a}{2T}\\right) - 1\\right) + \\frac{A}{2in\\pi} \\left(\\exp\\left(2i\\pi n\\frac{a}{2T}\\right)-1\\right) = \\frac{A}{-2in\\pi} \\left(\\exp\\left(-2i\\pi n\\frac{a}{2T}\\right) - \\exp\\left(2i\\pi n\\frac{a}{2T}\\right)\\right) = \\frac{A}{n\\pi} \\sin\\left(n\\pi \\frac{a}{T}\\right)\n",
    "\\end{equation}\n"
   ]
  },
  {
   "cell_type": "markdown",
   "metadata": {},
   "source": [
    "**<font color = blue>Question :</font>** \n",
    "Calculer ces valeurs en utilisant `discreteFourier`.\n",
    "On prendra $J=100$ points de discrétisation et on calculera les coefficients jusqu'à $N=10$.\n",
    "Que pensez-vous de l'approximation ?"
   ]
  },
  {
   "cell_type": "code",
   "execution_count": 53,
   "metadata": {},
   "outputs": [
    {
     "name": "stdout",
     "output_type": "stream",
     "text": [
      "[-1.79856130e-16+2.12052598e-16j -3.03475516e-02-8.81677878e-03j\n",
      " -5.55618086e-02-1.42658477e-02j -6.38217340e-02-1.42658477e-02j\n",
      " -4.62191730e-02-8.81677878e-03j -9.76996262e-17-4.49640325e-17j\n",
      "  6.97919905e-02+8.81677878e-03j  1.50916905e-01+1.42658477e-02j\n",
      "  2.26749157e-01+1.42658477e-02j  2.80554450e-01+8.81677878e-03j\n",
      "  3.00000000e-01+0.00000000e+00j  2.80554450e-01-8.81677878e-03j\n",
      "  2.26749157e-01-1.42658477e-02j  1.50916905e-01-1.42658477e-02j\n",
      "  6.97919905e-02-8.81677878e-03j -9.76996262e-17+4.49640325e-17j\n",
      " -4.62191730e-02+8.81677878e-03j -6.38217340e-02+1.42658477e-02j\n",
      " -5.55618086e-02+1.42658477e-02j -3.03475516e-02+8.81677878e-03j\n",
      " -1.79856130e-16-2.12052598e-16j]\n",
      "\n",
      "\n",
      "[-5.84725775e-18-0.02387324j -1.55914881e-02-0.02145984j\n",
      " -2.83810023e-02-0.00922155j -3.24354312e-02+0.01053891j\n",
      " -2.33872321e-02+0.03218976j  5.84725775e-18+0.04774648j\n",
      "  3.50808481e-02+0.04828465j  7.56826729e-02+0.02459079j\n",
      "  1.13524009e-01-0.03688619j  1.40323393e-01-0.19313858j\n",
      "  0.00000000e+00+0.j          1.40323393e-01+0.19313858j\n",
      "  1.13524009e-01+0.03688619j  7.56826729e-02-0.02459079j\n",
      "  3.50808481e-02-0.04828465j  5.84725775e-18-0.04774648j\n",
      " -2.33872321e-02-0.03218976j -3.24354312e-02-0.01053891j\n",
      " -2.83810023e-02+0.00922155j -1.55914881e-02+0.02145984j\n",
      " -5.84725775e-18+0.02387324j]\n"
     ]
    },
    {
     "name": "stderr",
     "output_type": "stream",
     "text": [
      "/var/folders/h0/0whwzmhd2szc5q_t_7qf5vx80000gn/T/ipykernel_83608/3245319457.py:6: RuntimeWarning: invalid value encountered in scalar divide\n",
      "  mat[i] = mat[i]/len(fj)\n"
     ]
    },
    {
     "data": {
      "image/png": "[encoded data removed]",
      "text/plain": [
       "<Figure size 640x480 with 1 Axes>"
      ]
     },
     "metadata": {},
     "output_type": "display_data"
    }
   ],
   "source": [
    "def coef_creneau(n,a,T,A):\n",
    "    if n == 0:\n",
    "        return 0\n",
    "    else:\n",
    "        return (A/(-2* pi * 1j * n))*np.exp(-2 * 1j * pi *n *(a/(2*T)))\n",
    "\n",
    "Cn_t = np.array([coef_creneau(n,0.4,2,1.5)for n in range(-10,11)]) # valeurs théoriques\n",
    "fj = np.array([f(t/50, 0.4, 2, 1.5) for t in range(0,100)]) \n",
    "Cn_n = discreteFourier(fj, 10) # valeurs numériques\n",
    "\n",
    "def calcul_erreur(J):\n",
    "    Cn_t = np.array([coef_creneau(n,0.4,2,1.5)for n in range(-10,11)]) # valeurs théoriques\n",
    "    fj = np.array([f(t/50, 0.4, 2, 1.5) for t in range(0,J)]) \n",
    "    Cn_n = discreteFourier(fj, 10) # valeurs numériques\n",
    "    sum = 0\n",
    "    for i in range(len(Cn_t)):\n",
    "        erreur = abs(Cn_t[i] - Cn_n[i])\n",
    "        sum += erreur\n",
    "    return sum/len(Cn_t) # la moyenne des erreurs\n",
    "\"\"\"\n",
    "x = [10,110]\n",
    "x2 = list(range(0, 101, 1))\n",
    "y = [calcul_erreur(j) for j in x2]\n",
    "plt.plot(x,y)\n",
    "\"\"\"\n",
    "\n",
    "valeurs_J = list(range(0, 101, 1))\n",
    "\n",
    "# calcul de la moyenne des erreurs pour chaque valeur de J\n",
    "erreurs = [calcul_erreur(j) for j in valeurs_J]\n",
    "\n",
    "# graph\n",
    "plt.plot(valeurs_J, erreurs, marker='o')\n",
    "\n",
    "print(Cn_n)\n",
    "print(\"\\n\")\n",
    "print(Cn_t)\n"
   ]
  },
  {
   "cell_type": "markdown",
   "metadata": {},
   "source": [
    "<font color = blue> Ont remarque que la moyenne des erreurs entre $Cn(f)$ théorique calculée précédemment et l'approximation de $Cn(f)$ avec discreteFourier diminue quand J augmente.  \n",
    "J= 100 semble une bonne approximation car la moyenne commence a se stabiliser vers cette valeur <font>"
   ]
  },
  {
   "cell_type": "markdown",
   "metadata": {},
   "source": [
    "### 3.4. Coefficients réels\n",
    "\n",
    "Reprenons une fonction $f$ générique.\n",
    "En utilisant les formules d'Euler, on peut réécrire l'expression de $S_N$ sous la forme\n",
    "\\begin{equation}\n",
    "S_N(t) = a_0(f) + \\sum_{n=1}^N \\left(a_n(f) \\cos\\left(2\\pi n \\dfrac tT\\right) + b_n(f) \\sin\\left(2\\pi n \\dfrac tT\\right) \\right).\n",
    "\\end{equation} "
   ]
  },
  {
   "cell_type": "markdown",
   "metadata": {},
   "source": [
    "**<font color = blue>Question :</font>** \n",
    "Calculer les valeurs des $a_n(f)$ et des $b_n(f)$ en fonction des $c_n(f)$."
   ]
  },
  {
   "cell_type": "markdown",
   "metadata": {},
   "source": [
    "<font color = blue>Votre réponse ici<font>"
   ]
  },
  {
   "cell_type": "markdown",
   "metadata": {},
   "source": [
    "On peut également l'écrire\n",
    "\\begin{equation}\n",
    "S_N(t) = A_0(f) + \\sum_{n=1}^N A_n(f) \\cos\\left(2\\pi n \\frac tT + \\varphi_n(f)\\right).\n",
    "\\end{equation} "
   ]
  },
  {
   "cell_type": "markdown",
   "metadata": {},
   "source": [
    "**<font color = blue>Question :</font>** \n",
    "Calculer les valeurs des $A_n(f)$ et des $\\varphi_n(f)$ en fonction des $a_n(f)$ et des $b_n(f)$ d'une part, puis en fonction des $c_n(f)$."
   ]
  },
  {
   "cell_type": "markdown",
   "metadata": {},
   "source": [
    "<font color = blue>Votre réponse ici<font>"
   ]
  },
  {
   "cell_type": "markdown",
   "metadata": {},
   "source": [
    "**<font color = blue>Question :</font>** \n",
    "Représenter sur deux graphes côte-à-côte, $|c_n(f)|$ en fonction de $n$ et $\\arg(c_n(f))$ en fonction de $n$ pour la fonction créneau précédemment définie. "
   ]
  },
  {
   "cell_type": "code",
   "execution_count": 14,
   "metadata": {},
   "outputs": [
    {
     "data": {
      "text/plain": [
       "[<matplotlib.lines.Line2D at 0x11e8eb050>]"
      ]
     },
     "execution_count": 14,
     "metadata": {},
     "output_type": "execute_result"
    },
    {
     "data": {
      "image/png": "[encoded data removed]",
      "text/plain": [
       "<Figure size 640x480 with 2 Axes>"
      ]
     },
     "metadata": {},
     "output_type": "display_data"
    }
   ],
   "source": [
    "def calcul_cn(N):\n",
    "    if N == 0:\n",
    "        return 0.3\n",
    "    else:\n",
    "        return (1.5/(np.pi * N)) * sin(N * np.pi * 0.4 / 2)\n",
    "\n",
    "mod_cn = np.array([abs(calcul_cn(i)) for i in range(-10,11)])\n",
    "arg_cn = np.array([np.angle(calcul_cn(i)) for i in range(-10,11)])\n",
    "n = np.linspace(-10,10,21)\n",
    "plt.subplot(121)\n",
    "plt.plot(n,mod_cn)\n",
    "plt.subplot(122)\n",
    "plt.plot(n, arg_cn)"
   ]
  },
  {
   "cell_type": "markdown",
   "metadata": {},
   "source": [
    "### 3.4. Convergence\n",
    "\n",
    "Tout l'intérêt des séries de Fourier est qu'elles convergent en un certain sens vers la fonction de départ. \n",
    "\n",
    "#### Inégalité de Bessel\n",
    "\n",
    "Soit $f\\in\\mathcal{L}_{\\rm per}^2(0,T)$ alors \n",
    "\\begin{equation}\n",
    "\\sum_{n=-N}^N |c_n|^2 \\leq \\frac1T \\int_0^T |f(t)|^2 dt.\n",
    "\\end{equation}\n",
    "\n",
    "#### Convergence des sommes partielles\n",
    "\n",
    "Par ailleurs, la suite $S_N$ des polynômes trigonométriques de meilleure approximation dans $\\mathbb{T}_N$ converge vers $f$ dans $\\mathcal{L}_{\\rm per}^2(0,T)$ :\n",
    "\\begin{equation}\n",
    "\\lim_{N\\to\\infty} \\|f-S_N\\|_2 = 0.  \n",
    "\\end{equation}\n",
    "Cela veut dire que la série $\\sum_{n\\in\\mathbb{Z}} c_n(f)\\exp(2i\\pi n t/T)$ converge normalement et donc presque partout vers $f$.\n",
    "\n",
    "#### Égalité de Parseval\n",
    "\n",
    "Soit $f\\in\\mathcal{L}_{\\rm per}^2(0,T)$, alors \n",
    "\\begin{equation}\n",
    "\\sum_{n=-\\infty}^\\infty |c_n|^2 = \\frac1T \\int_0^T |f(t)|^2 dt.\n",
    "\\end{equation}"
   ]
  },
  {
   "cell_type": "markdown",
   "metadata": {},
   "source": [
    "**<font color = blue>Question :</font>** \n",
    "Illustrer graphiquement l'inégalité de Bessel et l'égalité de Parseval sur l'exemple de la fonction créneau. "
   ]
  },
  {
   "cell_type": "code",
   "execution_count": 15,
   "metadata": {},
   "outputs": [
    {
     "data": {
      "text/plain": [
       "<matplotlib.legend.Legend at 0x10fdfaad0>"
      ]
     },
     "execution_count": 15,
     "metadata": {},
     "output_type": "execute_result"
    },
    {
     "data": {
      "image/png": "[encoded data removed]",
      "text/plain": [
       "<Figure size 640x480 with 1 Axes>"
      ]
     },
     "metadata": {},
     "output_type": "display_data"
    }
   ],
   "source": [
    "fj = np.array([f(t/50, 0.4, 2, 1.5) for t in range(0,100)])\n",
    "diff = np.zeros((201,))\n",
    "\n",
    "inte = 0.2 * (1.5)**2\n",
    "for N in range(201):\n",
    "    for i in range(-N,N+1):\n",
    "        diff[N] += (calcul_cn(i))**2\n",
    "    diff[N] -= inte\n",
    "n = np.linspace(0,200,201)\n",
    "plt.plot(n, diff, '-b', label=\"À mettre\")\n",
    "plt.plot(n, np.zeros((201,)), '-r')\n",
    "plt.legend()"
   ]
  },
  {
   "cell_type": "markdown",
   "metadata": {},
   "source": [
    "<font color = blue>Votre commentaire ici</font>"
   ]
  },
  {
   "cell_type": "markdown",
   "metadata": {},
   "source": [
    "#### Théorème de Dirichlet\n",
    "\n",
    "Soit $f\\in\\mathcal{L}_{\\rm per}^1(0,T)$ et $t_0$ tel que $f$ admette des limites à droite et à gauche en $t_0$, respectivement notées $f(t_0^+)$ et $f(t_0^-)$, alors \n",
    "\\begin{equation}\n",
    "\\lim_{N\\to\\infty} \\sum_{n=-N}^N c_n(f)\\exp\\left(2i\\pi n \\dfrac {t_0}T\\right) = \\dfrac{f(t_0^+)+f(t_0^-)}2. \n",
    "\\end{equation}"
   ]
  },
  {
   "cell_type": "markdown",
   "metadata": {},
   "source": [
    "**<font color = blue>Question :</font>**  \n",
    "Toujours avec $N=10$ et $J=100$, tracer sur un même graphique la fonction créneau et sa somme de Fourier partielle de degré $N$."
   ]
  },
  {
   "cell_type": "code",
   "execution_count": 16,
   "metadata": {},
   "outputs": [
    {
     "name": "stderr",
     "output_type": "stream",
     "text": [
      "/opt/homebrew/lib/python3.11/site-packages/matplotlib/cbook.py:1699: ComplexWarning: Casting complex values to real discards the imaginary part\n",
      "  return math.isfinite(val)\n",
      "/opt/homebrew/lib/python3.11/site-packages/matplotlib/cbook.py:1345: ComplexWarning: Casting complex values to real discards the imaginary part\n",
      "  return np.asarray(x, float)\n"
     ]
    },
    {
     "data": {
      "text/plain": [
       "[<matplotlib.lines.Line2D at 0x11e81cfd0>]"
      ]
     },
     "execution_count": 16,
     "metadata": {},
     "output_type": "execute_result"
    },
    {
     "data": {
      "image/png": "[encoded data removed]",
      "text/plain": [
       "<Figure size 640x480 with 1 Axes>"
      ]
     },
     "metadata": {},
     "output_type": "display_data"
    }
   ],
   "source": [
    "T = 2\n",
    "a = 0.4\n",
    "A = 1.5\n",
    "x = np.linspace(0,T,100)\n",
    "fj = np.array([f(t, 0.4, 2, 1.5) for t in x])\n",
    "\n",
    "cn = np.array([calcul_cn(i) for i in range(-10,11)])\n",
    "inv = invFourier(cn,100)\n",
    "plt.plot(x,fj)\n",
    "plt.plot(x,inv)"
   ]
  },
  {
   "cell_type": "markdown",
   "metadata": {},
   "source": [
    "<font color = blue>Votre commentaire ici</font>"
   ]
  },
  {
   "cell_type": "markdown",
   "metadata": {},
   "source": [
    "## 4. Calcul de sommes de séries"
   ]
  },
  {
   "cell_type": "markdown",
   "metadata": {},
   "source": [
    "On considère maintenant la fonction $g$, $2\\pi$ périodique, donnée par $g(x)=x^2$ sur l'intervalle $[-\\pi,\\pi]$."
   ]
  },
  {
   "cell_type": "markdown",
   "metadata": {},
   "source": [
    "**<font color = blue>Question :</font>**  \n",
    "Calculer les coefficients de Fourier $c_n(g)$. "
   ]
  },
  {
   "cell_type": "markdown",
   "metadata": {},
   "source": [
    "<font color = blue>Votre réponse ici</font>"
   ]
  },
  {
   "cell_type": "markdown",
   "metadata": {},
   "source": [
    "**<font color = blue>Question :</font>**  \n",
    "En utilisant les théorèmes de la question 3.4, expliquer comment calculer à l'aide de ces coefficients de Fourier les sommes des séries\n",
    "* $\\sum\\limits_{n=1}^{+\\infty} \\dfrac1{n^2}$,\n",
    "* $\\sum\\limits_{n=1}^{+\\infty} \\dfrac{(-1)^{n+1}}{n^2}$,\n",
    "* $\\sum\\limits_{n=1}^{+\\infty} \\dfrac1{n^4}$."
   ]
  },
  {
   "cell_type": "markdown",
   "metadata": {},
   "source": [
    "<font color = blue>Votre réponse ici</font>"
   ]
  },
  {
   "cell_type": "markdown",
   "metadata": {},
   "source": [
    "**<font color = blue>Question :</font>**  \n",
    "Calculer numériquement ces sommes en utilisant `discreteFourier` et `invFourier`. Discuter la qualité de l'approximation."
   ]
  },
  {
   "cell_type": "code",
   "execution_count": 17,
   "metadata": {},
   "outputs": [
    {
     "name": "stdout",
     "output_type": "stream",
     "text": [
      "Somme 1 :  0.8224695057673956\n",
      "Somme 2 :  1.6449340668481733\n",
      "Somme 3 :  1.0920803939076273\n"
     ]
    }
   ],
   "source": [
    "J = 1000\n",
    "N = 500\n",
    "t = np.linspace(-1 * np.pi, np.pi, J)\n",
    "fj = np.array([(x**2) for x in t])\n",
    "cn = discreteFourier(fj,N)\n",
    "inv = invFourier(cn, J)\n",
    "somme = 0\n",
    "\n",
    "for i in range(len(cn)):\n",
    "    somme += abs(cn[i])**2\n",
    "\n",
    "print(\"Somme 1 : \", (abs(inv[J//2]) + (np.pi**2) / 3) / 4)\n",
    "print(\"Somme 2 : \", (abs(inv[-1]) - np.pi**2 /3) / 4)\n",
    "print(\"Somme 3 : \", (somme - (np.pi**4) / 9) / 8)"
   ]
  },
  {
   "cell_type": "markdown",
   "metadata": {},
   "source": [
    "<font color = blue>Votre commentaire ici</font>"
   ]
  }
 ],
 "metadata": {
  "kernelspec": {
   "display_name": "Python 3 (ipykernel)",
   "language": "python",
   "name": "python3"
  },
  "language_info": {
   "codemirror_mode": {
    "name": "ipython",
    "version": 3
   },
   "file_extension": ".py",
   "mimetype": "text/x-python",
   "name": "python",
   "nbconvert_exporter": "python",
   "pygments_lexer": "ipython3",
   "version": "3.11.5"
  }
 },
 "nbformat": 4,
 "nbformat_minor": 4
}
